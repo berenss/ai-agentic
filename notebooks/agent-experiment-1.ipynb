{
 "cells": [
  {
   "cell_type": "code",
   "execution_count": 1,
   "id": "8b53fabe",
   "metadata": {},
   "outputs": [],
   "source": [
    "import os\n",
    "import openai\n",
    "from dotenv import load_dotenv, find_dotenv\n",
    "\n",
    "_ = load_dotenv(find_dotenv()) \n",
    "openai.api_key  = os.getenv('OPENAI_API_KEY')"
   ]
  },
  {
   "cell_type": "markdown",
   "id": "b5010afc",
   "metadata": {},
   "source": [
    "### Create tools"
   ]
  },
  {
   "cell_type": "code",
   "execution_count": 2,
   "id": "25036262",
   "metadata": {},
   "outputs": [],
   "source": [
    "from typing import Annotated\n",
    "\n",
    "from langchain_community.tools.tavily_search import TavilySearchResults\n",
    "from langchain_experimental.tools import PythonREPLTool\n",
    "\n",
    "tavily_tool = TavilySearchResults(max_results=5)\n",
    "\n",
    "# This executes code locally, which can be unsafe\n",
    "python_repl_tool = PythonREPLTool()"
   ]
  },
  {
   "cell_type": "code",
   "execution_count": 3,
   "id": "903cae4b",
   "metadata": {},
   "outputs": [],
   "source": [
    "from langchain.agents import tool\n",
    "\n",
    "# This business of detecting the application topology is \n",
    "# a very complex one. What is shown here now is deployment topology\n",
    "# What is not shown is application internal dependencies between pods etc.\n",
    "# Those are very valuable when available. They can be surfaced from different sources\n",
    "# NetworkObservability, Traces, KnowledgeGraphs etc\n",
    "@tool\n",
    "def appdef(query: str) -> dict:\n",
    "    \"\"\"\n",
    "    This tool can find out details of application given the application name. \n",
    "    Do not try to pass on anything else like container name, secret name etc. \n",
    "    Only Application name should be used.\n",
    "    \"\"\"\n",
    "    \n",
    "    data = {\n",
    "    \"appname\": [\n",
    "        \"retailbanking\"\n",
    "      ], \n",
    "    \"clustername\": [\n",
    "        \"cluster-1\"\n",
    "      ],         \n",
    "      \"deployment_my-app-deployment\": [\n",
    "        \"pod_my-app-deployment-abc123\",\n",
    "        \"pod_my-app-deployment-xyz456\"\n",
    "      ],\n",
    "      \"pod_my-app-deployment-abc123\": [\n",
    "        \"container_app-container\",\n",
    "        \"configmap_my-app-config\",\n",
    "        \"secret_my-app-secret\",\n",
    "        \"pvc_my-app-pvc\"\n",
    "      ],\n",
    "      \"pod_my-app-deployment-xyz456\": [\n",
    "        \"container_app-container\",\n",
    "        \"configmap_my-app-config\",\n",
    "        \"secret_my-app-secret\",\n",
    "        \"pvc_my-app-pvc\"\n",
    "      ],\n",
    "      \"service_my-app-service\": [\n",
    "        \"pod_my-app-deployment-abc123\",\n",
    "        \"pod_my-app-deployment-xyz456\"\n",
    "      ],\n",
    "      \"ingress_my-app-ingress\": [\n",
    "        \"service_my-app-service\"\n",
    "      ]\n",
    "    }\n",
    "    return data"
   ]
  },
  {
   "cell_type": "code",
   "execution_count": 4,
   "id": "43f8ac23",
   "metadata": {},
   "outputs": [],
   "source": [
    "#tools = [podhealth]"
   ]
  },
  {
   "cell_type": "markdown",
   "id": "6481d511",
   "metadata": {},
   "source": [
    "### State definition exchanged across calls"
   ]
  },
  {
   "cell_type": "code",
   "execution_count": 5,
   "id": "9ae71e82",
   "metadata": {},
   "outputs": [],
   "source": [
    "import functools\n",
    "import operator\n",
    "from typing import Sequence, TypedDict\n",
    "from langchain_core.messages import BaseMessage, HumanMessage\n",
    "\n",
    "from langchain_core.prompts import ChatPromptTemplate, MessagesPlaceholder\n",
    "\n",
    "from langgraph.graph import END, StateGraph, START\n",
    "\n",
    "\n",
    "# The agent state is the input to each node in the graph\n",
    "class AgentState(TypedDict):\n",
    "    # This is storing the initial question from the user\n",
    "    task: str\n",
    "    # This will store the appname    \n",
    "    appname: str\n",
    "    # This stores the composition of the application\n",
    "    # This should probably be a python dict at some point\n",
    "    composition: str    \n",
    "    # The annotation tells the graph that new messages will always\n",
    "    # be added to the current states\n",
    "    messages: Annotated[Sequence[BaseMessage], operator.add]\n",
    "    # The 'next' field indicates where to route to next\n",
    "    next: str\n",
    "    # The 'summary' field contains the final summary\n",
    "    summary: str    \n",
    "\n",
    "\n"
   ]
  },
  {
   "cell_type": "markdown",
   "id": "bbd6eb7d",
   "metadata": {},
   "source": [
    "### Define the Agents with prompts"
   ]
  },
  {
   "cell_type": "code",
   "execution_count": 6,
   "id": "d6ffd356",
   "metadata": {},
   "outputs": [],
   "source": [
    "SUPERVISOR_PROMPT = \"\"\"You are a supervisor tasked with getting the application health. \\\n",
    "    You have the following workers:  {members}. Given the user request, \\\n",
    "    find the application name that user is asking about. \\\n",
    "    Use the worker/member that can do it. \\\n",
    "    Once you have got the application name, \\\n",
    "    find out the health of that application from the metrics point of view. \\\n",
    "    Use the worker/member that can do it. \\\n",
    "    Just respond with the worker/member name who should act next - nothing else. \\\n",
    "    Each worker will perform a \\\n",
    "    task and respond with their results and status. \\\n",
    "    Hint - the order in which the members are organized is the order in which they can be called. \\\n",
    "    Concretely - call Appdetect first. After its done, call Appmetric etc. \\\n",
    "    When finished, respond with FINISH.\"\"\""
   ]
  },
  {
   "cell_type": "code",
   "execution_count": 7,
   "id": "450fdc84",
   "metadata": {},
   "outputs": [],
   "source": [
    "APPDETECT_PROMPT = \"\"\"You are an expert at determining the application name from a query.\\\n",
    "Find out the application name and just return the application name and nothing else. \"\"\""
   ]
  },
  {
   "cell_type": "code",
   "execution_count": 8,
   "id": "7c8bc377",
   "metadata": {},
   "outputs": [],
   "source": [
    "# Need to think over this more. Application composition can be very useful in driving relevant cluster health aspects.\n",
    "# Example - say application is Nginx. VS application is a CR driven operator heavy application.\n",
    "CLUSTER_PROMPT = \"\"\"You are an expert at determining the health of a cluster.\\\n",
    "You only need the application composition to be passed on as : {composition}. \\\n",
    "Always return the message - Cluster is healthy for the past 24 hours.  \"\"\""
   ]
  },
  {
   "cell_type": "code",
   "execution_count": 9,
   "id": "818fc804",
   "metadata": {},
   "outputs": [],
   "source": [
    "APPCHANGE_PROMPT = \"\"\"You are an expert at determining what has changed around the application.\\\n",
    "After all, one of the primary causes of problems is changes!\\\n",
    "You only need the application composition to be passed on as : {composition}. \\\n",
    "Always return the message - Nothing has changed around this application in past 24 hours. \"\"\""
   ]
  },
  {
   "cell_type": "code",
   "execution_count": 10,
   "id": "a34d0dc4",
   "metadata": {},
   "outputs": [],
   "source": [
    "APPMETRIC_PROMPT = \"\"\"You are an expert at determining the application health from the metrics they emit.\\\n",
    "You only need the application composition to be passed on as : {composition}. \\\n",
    "Always return the message - All is healthy \"\"\""
   ]
  },
  {
   "cell_type": "code",
   "execution_count": 11,
   "id": "155eece8",
   "metadata": {},
   "outputs": [],
   "source": [
    "APPLOG_PROMPT = \"\"\"You are an expert at determining the application health from the logs they emit.\\\n",
    "You only need the application composition to be passed on as : {composition}. \\\n",
    "Always return the message - All is healthy \"\"\""
   ]
  },
  {
   "cell_type": "code",
   "execution_count": 12,
   "id": "2dcf0a3b",
   "metadata": {},
   "outputs": [],
   "source": [
    "APPALERT_PROMPT = \"\"\"You are an expert at determining the application health by looking at the alert history. \\\n",
    "You only need the application composition to be passed on as : {composition}. \\\n",
    "Always return the message - There are no alerts related to this in the past 6 hours. All is healthy \"\"\""
   ]
  },
  {
   "cell_type": "code",
   "execution_count": 13,
   "id": "a34750df",
   "metadata": {},
   "outputs": [],
   "source": [
    "APPSLO_PROMPT = \"\"\"You are an expert at determining the application health from the SLOs if they are defined.\\\n",
    "You only need the application composition to be passed on as : {composition}. \\\n",
    "Always return the message - No SLO has been defined for this application \"\"\""
   ]
  },
  {
   "cell_type": "code",
   "execution_count": 14,
   "id": "ccf77323",
   "metadata": {},
   "outputs": [],
   "source": [
    "SUMMARY_PROMPT = \"\"\"You are an expert at summarizing the state of affairs. \\\n",
    "List all the checks that has been done. \\\n",
    "Create a concluding statement - call it in conclusion - a summarize your findings in a binary manner - good or bad. \n",
    "------\n",
    "\n",
    "{content}\"\"\""
   ]
  },
  {
   "cell_type": "code",
   "execution_count": 15,
   "id": "26f6f478",
   "metadata": {},
   "outputs": [],
   "source": [
    "members = [\"App_Detect\",\"App_Change_Detect\",\"Cluster_Health\",\"App_Health_from_metric\",\n",
    "           \"App_Health_from_log\",\"App_Health_from_alert\",\"App_Health_from_slo\",\"Summary\"] "
   ]
  },
  {
   "cell_type": "code",
   "execution_count": 16,
   "id": "a2dcb4eb",
   "metadata": {},
   "outputs": [],
   "source": [
    "# This is utility switch. Turns on more logging.\n",
    "log_state_data = False"
   ]
  },
  {
   "cell_type": "code",
   "execution_count": 17,
   "id": "0c616ff0",
   "metadata": {},
   "outputs": [],
   "source": [
    "from langchain_openai import ChatOpenAI\n",
    "from langchain_core.messages import AnyMessage, SystemMessage, HumanMessage, AIMessage, ChatMessage"
   ]
  },
  {
   "cell_type": "code",
   "execution_count": 18,
   "id": "a7c90c02",
   "metadata": {},
   "outputs": [],
   "source": [
    "def supervisor_chain(state: AgentState):\n",
    "    \n",
    "    \n",
    "    if isinstance(state['messages'][-1], str):\n",
    "        msg = state['messages'][-1]\n",
    "    else:\n",
    "        msg = state['messages'][-1].content\n",
    "\n",
    "    messages = [\n",
    "        SystemMessage(content=SUPERVISOR_PROMPT.format(members=members)), \n",
    "        HumanMessage(content=msg)\n",
    "        \n",
    "   ]\n",
    "    \n",
    "    if (log_state_data):\n",
    "        print(\"*************inside supervisor_chain********************\")\n",
    "        for key in state:\n",
    "            print(key,\" : \",state[key])\n",
    "        print(\"*********************************\")\n",
    "    \n",
    "    \n",
    "    #model = ChatOpenAI(model=\"gpt-3.5-turbo\", temperature=0)\n",
    "    #modelt = model.bind_tools(tools)\n",
    "    #response = model.invoke(messages)\n",
    "    \n",
    "    # As you will see, this supervisor does not even call the LLM\n",
    "    # This is a point in time statement. Ofcourse we will use LLM\n",
    "    # This is also exploring art of possible\n",
    "    \n",
    "    if not state['appname']:\n",
    "        value = 'App_Detect'\n",
    "    elif state['next'] == 'App_Detect':\n",
    "        value = 'App_Change_Detect'\n",
    "    elif state['next'] == 'App_Change_Detect':\n",
    "        value = 'Cluster_Health'\n",
    "    elif state['next'] == 'Cluster_Health':\n",
    "        value =  'App_Health_from_metric'       \n",
    "    elif state['next'] == 'App_Health_from_metric':\n",
    "        value = 'App_Health_from_log'  \n",
    "    elif state['next'] == 'App_Health_from_log':\n",
    "        value = 'App_Health_from_alert'        \n",
    "    elif state['next'] == 'App_Health_from_alert':\n",
    "        value = 'App_Health_from_slo'        \n",
    "    elif state['next'] == 'App_Health_from_slo':\n",
    "        value = 'Summary'\n",
    "        \n",
    "    else:\n",
    "        value = 'FINISH'\n",
    "\n",
    "    return {\"next\": value,\"task\":state['messages'][0].content }"
   ]
  },
  {
   "cell_type": "code",
   "execution_count": 19,
   "id": "ed4f1857",
   "metadata": {},
   "outputs": [],
   "source": [
    "def appdetect_node(state: AgentState):\n",
    "    \n",
    "    if (log_state_data):\n",
    "        print(\"*************inside appdetect_node********************\")\n",
    "        for key in state:\n",
    "            print(key,\" : \",state[key])\n",
    "        print(\"*********************************\")\n",
    "    \n",
    "    messages = [\n",
    "        SystemMessage(content=APPDETECT_PROMPT), \n",
    "        HumanMessage(content=state['task'])\n",
    "    ]\n",
    "   \n",
    "\n",
    "    model = ChatOpenAI(model=\"gpt-3.5-turbo\", temperature=0)\n",
    "    response = model.invoke(messages)\n",
    "    \n",
    "    # notice how we call the tool directly\n",
    "    # This business of detecting the application topology is \n",
    "    # a very complex one. What is shown here now is deployment topology\n",
    "    # What is not shown is application internal dependencies between pods etc.\n",
    "    # Those are very valuable when available. They can be surfaced from different sources\n",
    "    # NetworkObservability, Traces, KnowledgeGraphs etc\n",
    "    value = appdef.run({\"query\": response.content})  \n",
    "\n",
    "    return {\"messages\": [response.content],\"appname\":response.content,\"composition\": value }"
   ]
  },
  {
   "cell_type": "code",
   "execution_count": 20,
   "id": "db105c93",
   "metadata": {},
   "outputs": [],
   "source": [
    "def appchangedetect_node(state: AgentState):\n",
    "    \n",
    "    if (log_state_data):\n",
    "        print(\"*************inside appchangedetect_node********************\")\n",
    "        for key in state:\n",
    "            print(key,\" : \",state[key])\n",
    "        print(\"*********************************\")\n",
    "    \n",
    "    composition = state['composition']\n",
    "    \n",
    "    messages = [\n",
    "        SystemMessage(content=APPCHANGE_PROMPT.format(composition = composition)) ,\n",
    "   ]\n",
    "\n",
    "    model = ChatOpenAI(model=\"gpt-3.5-turbo\", temperature=0)\n",
    "    response = model.invoke(messages)\n",
    "\n",
    "    return {\"messages\": [response.content]}"
   ]
  },
  {
   "cell_type": "code",
   "execution_count": 21,
   "id": "efaa8c6a",
   "metadata": {},
   "outputs": [],
   "source": [
    "def cluster_health_node(state: AgentState):\n",
    "    \n",
    "    if (log_state_data):\n",
    "        print(\"*************inside cluster_health_node********************\")\n",
    "        for key in state:\n",
    "            print(key,\" : \",state[key])\n",
    "        print(\"*********************************\")\n",
    "    \n",
    "    composition = state['composition']\n",
    "    \n",
    "    messages = [\n",
    "        SystemMessage(content=CLUSTER_PROMPT.format(composition = composition)) ,\n",
    "   ]\n",
    "\n",
    "    model = ChatOpenAI(model=\"gpt-3.5-turbo\", temperature=0)\n",
    "    response = model.invoke(messages)\n",
    "\n",
    "    return {\"messages\": [response.content]}"
   ]
  },
  {
   "cell_type": "code",
   "execution_count": 22,
   "id": "ab79ffad",
   "metadata": {},
   "outputs": [],
   "source": [
    "def appmetric_node(state: AgentState):\n",
    "    \n",
    "    if (log_state_data):\n",
    "        print(\"*************inside appmetric_node********************\")\n",
    "        for key in state:\n",
    "            print(key,\" : \",state[key])\n",
    "        print(\"*********************************\")\n",
    "    \n",
    "    composition = state['composition']\n",
    "    \n",
    "    messages = [\n",
    "        SystemMessage(content=APPMETRIC_PROMPT.format(composition = composition)) ,\n",
    "   ]\n",
    "\n",
    "    model = ChatOpenAI(model=\"gpt-3.5-turbo\", temperature=0)\n",
    "    response = model.invoke(messages)\n",
    "\n",
    "    return {\"messages\": [response.content]}"
   ]
  },
  {
   "cell_type": "code",
   "execution_count": 23,
   "id": "943ab2ae",
   "metadata": {},
   "outputs": [],
   "source": [
    "def applog_node(state: AgentState):\n",
    "    \n",
    "    if (log_state_data):\n",
    "        print(\"*************inside applog_node********************\")\n",
    "        for key in state:\n",
    "            print(key,\" : \",state[key])\n",
    "        print(\"*********************************\")\n",
    "    \n",
    "    composition = state['composition']\n",
    "    \n",
    "    messages = [\n",
    "        SystemMessage(content=APPLOG_PROMPT.format(composition = composition)) ,\n",
    "   ]\n",
    "\n",
    "    model = ChatOpenAI(model=\"gpt-3.5-turbo\", temperature=0)\n",
    "    response = model.invoke(messages)\n",
    "\n",
    "    return {\"messages\": [response.content]}"
   ]
  },
  {
   "cell_type": "code",
   "execution_count": 24,
   "id": "0fec1f96",
   "metadata": {},
   "outputs": [],
   "source": [
    "def appalert_node(state: AgentState):\n",
    "    \n",
    "    if (log_state_data):\n",
    "        print(\"*************inside appalert_node********************\")\n",
    "        for key in state:\n",
    "            print(key,\" : \",state[key])\n",
    "        print(\"*********************************\")\n",
    "    \n",
    "    composition = state['composition']\n",
    "    \n",
    "    messages = [\n",
    "        SystemMessage(content=APPALERT_PROMPT.format(composition = composition)) ,\n",
    "   ]\n",
    "\n",
    "    model = ChatOpenAI(model=\"gpt-3.5-turbo\", temperature=0)\n",
    "    response = model.invoke(messages)\n",
    "\n",
    "    return {\"messages\": [response.content]}"
   ]
  },
  {
   "cell_type": "code",
   "execution_count": 25,
   "id": "c40293f1",
   "metadata": {},
   "outputs": [],
   "source": [
    "def appslo_node(state: AgentState):\n",
    "    \n",
    "    if (log_state_data):\n",
    "        print(\"*************inside appslo_node********************\")\n",
    "        for key in state:\n",
    "            print(key,\" : \",state[key])\n",
    "        print(\"*********************************\")\n",
    "    \n",
    "    composition = state['composition']\n",
    "    \n",
    "    messages = [\n",
    "        SystemMessage(content=APPSLO_PROMPT.format(composition = composition)) ,\n",
    "   ]\n",
    "\n",
    "    model = ChatOpenAI(model=\"gpt-3.5-turbo\", temperature=0)\n",
    "    response = model.invoke(messages)\n",
    "\n",
    "    return {\"messages\": [response.content]}"
   ]
  },
  {
   "cell_type": "code",
   "execution_count": 26,
   "id": "a8180ae7",
   "metadata": {},
   "outputs": [],
   "source": [
    "def summary_node(state: AgentState):\n",
    "    \n",
    "    if (log_state_data):\n",
    "        print(\"*************inside summary_node********************\")\n",
    "        for key in state:\n",
    "            print(key,\" : \",state[key])\n",
    "        print(\"*********************************\")\n",
    "    \n",
    "    content = state['messages'] \n",
    "    \n",
    "    messages = [\n",
    "        SystemMessage(content=SUMMARY_PROMPT.format(content=content)),\n",
    "    ]\n",
    "    \n",
    "    model = ChatOpenAI(model=\"gpt-3.5-turbo\", temperature=0)\n",
    "    response = model.invoke(messages)\n",
    "    \n",
    "    return {\"summary\": response.content}"
   ]
  },
  {
   "cell_type": "markdown",
   "id": "a25fb1ff",
   "metadata": {},
   "source": [
    "### Construct Graph"
   ]
  },
  {
   "cell_type": "markdown",
   "id": "24bb23e8",
   "metadata": {},
   "source": [
    "#### Add Nodes"
   ]
  },
  {
   "cell_type": "code",
   "execution_count": 27,
   "id": "2b91345a",
   "metadata": {},
   "outputs": [],
   "source": [
    "workflow = StateGraph(AgentState)\n",
    "workflow.add_node(\"supervisor\", supervisor_chain)\n",
    "workflow.add_node(\"App_Detect\",appdetect_node)\n",
    "workflow.add_node(\"App_Change_Detect\",appchangedetect_node)\n",
    "workflow.add_node(\"Cluster_Health\",cluster_health_node)\n",
    "workflow.add_node(\"App_Health_from_metric\",appmetric_node)\n",
    "workflow.add_node(\"App_Health_from_log\",applog_node)\n",
    "workflow.add_node(\"App_Health_from_alert\",appalert_node)\n",
    "workflow.add_node(\"App_Health_from_slo\",appslo_node)\n",
    "\n",
    "workflow.add_node(\"Summary\",summary_node)"
   ]
  },
  {
   "cell_type": "markdown",
   "id": "69b70720",
   "metadata": {},
   "source": [
    "#### Add Edges"
   ]
  },
  {
   "cell_type": "code",
   "execution_count": 28,
   "id": "9cb2d5cf",
   "metadata": {},
   "outputs": [],
   "source": [
    "for member in members:\n",
    "    # We want our workers to ALWAYS \"report back\" to the supervisor when done\n",
    "    workflow.add_edge(member, \"supervisor\")\n",
    "# The supervisor populates the \"next\" field in the graph state\n",
    "# which routes to a node or finishes\n",
    "conditional_map = {k: k for k in members}\n",
    "conditional_map[\"FINISH\"] = END\n",
    "workflow.add_conditional_edges(\"supervisor\", lambda x: x[\"next\"], conditional_map)\n",
    "# Finally, add entrypoint\n",
    "workflow.add_edge(START, \"supervisor\")\n"
   ]
  },
  {
   "cell_type": "markdown",
   "id": "57a79df4",
   "metadata": {},
   "source": [
    "#### Compile Graph"
   ]
  },
  {
   "cell_type": "code",
   "execution_count": 29,
   "id": "53ae118c",
   "metadata": {},
   "outputs": [],
   "source": [
    "from langgraph.checkpoint.sqlite import SqliteSaver\n",
    "memory = SqliteSaver.from_conn_string(\":memory:\")\n",
    "\n",
    "\n",
    "#graph = workflow.compile()\n",
    "graph = workflow.compile(checkpointer=memory)"
   ]
  },
  {
   "cell_type": "markdown",
   "id": "429eda26",
   "metadata": {},
   "source": [
    "#### Display the graph"
   ]
  },
  {
   "cell_type": "code",
   "execution_count": 30,
   "id": "3ce1499a",
   "metadata": {},
   "outputs": [
    {
     "data": {
      "image/jpeg": "[encoded data removed]",
      "text/plain": [
       "<IPython.core.display.Image object>"
      ]
     },
     "metadata": {},
     "output_type": "display_data"
    }
   ],
   "source": [
    "from IPython.display import Image, display\n",
    "#from langchain_core.runnables.graph import CurveStyle, MermaidDrawMethod, NodeColors\n",
    "from langchain_core.runnables.graph import CurveStyle, MermaidDrawMethod\n",
    "\n",
    "display(\n",
    "    Image(\n",
    "        graph.get_graph().draw_mermaid_png(\n",
    "            draw_method=MermaidDrawMethod.API,\n",
    "        )\n",
    "    )\n",
    ")"
   ]
  },
  {
   "cell_type": "markdown",
   "id": "1f71ce02",
   "metadata": {},
   "source": [
    "## Run the code"
   ]
  },
  {
   "cell_type": "code",
   "execution_count": 31,
   "id": "65ae2ba7",
   "metadata": {},
   "outputs": [
    {
     "name": "stdout",
     "output_type": "stream",
     "text": [
      "{'supervisor': {'task': 'How is the health of my application retailbanking.', 'next': 'App_Detect'}}\n",
      "----\n",
      "{'App_Detect': {'appname': 'retailbanking', 'composition': {'appname': ['retailbanking'], 'clustername': ['cluster-1'], 'deployment_my-app-deployment': ['pod_my-app-deployment-abc123', 'pod_my-app-deployment-xyz456'], 'pod_my-app-deployment-abc123': ['container_app-container', 'configmap_my-app-config', 'secret_my-app-secret', 'pvc_my-app-pvc'], 'pod_my-app-deployment-xyz456': ['container_app-container', 'configmap_my-app-config', 'secret_my-app-secret', 'pvc_my-app-pvc'], 'service_my-app-service': ['pod_my-app-deployment-abc123', 'pod_my-app-deployment-xyz456'], 'ingress_my-app-ingress': ['service_my-app-service']}, 'messages': ['retailbanking']}}\n",
      "----\n",
      "{'supervisor': {'task': 'How is the health of my application retailbanking.', 'next': 'App_Change_Detect'}}\n",
      "----\n",
      "{'App_Change_Detect': {'messages': ['Nothing has changed around this application in the past 24 hours.']}}\n",
      "----\n",
      "{'supervisor': {'task': 'How is the health of my application retailbanking.', 'next': 'Cluster_Health'}}\n",
      "----\n",
      "{'Cluster_Health': {'messages': ['Cluster is healthy for the past 24 hours.']}}\n",
      "----\n",
      "{'supervisor': {'task': 'How is the health of my application retailbanking.', 'next': 'App_Health_from_metric'}}\n",
      "----\n",
      "{'App_Health_from_metric': {'messages': ['All is healthy']}}\n",
      "----\n",
      "{'supervisor': {'task': 'How is the health of my application retailbanking.', 'next': 'App_Health_from_log'}}\n",
      "----\n",
      "{'App_Health_from_log': {'messages': ['All is healthy']}}\n",
      "----\n",
      "{'supervisor': {'task': 'How is the health of my application retailbanking.', 'next': 'App_Health_from_alert'}}\n",
      "----\n",
      "{'App_Health_from_alert': {'messages': ['There are no alerts related to this in the past 6 hours. All is healthy']}}\n",
      "----\n",
      "{'supervisor': {'task': 'How is the health of my application retailbanking.', 'next': 'App_Health_from_slo'}}\n",
      "----\n",
      "{'App_Health_from_slo': {'messages': ['No SLO has been defined for this application']}}\n",
      "----\n",
      "{'supervisor': {'task': 'How is the health of my application retailbanking.', 'next': 'Summary'}}\n",
      "----\n",
      "{'Summary': {'summary': 'Checks that have been done:\\n1. Health check on the application \"retailbanking\" shows that nothing has changed in the past 24 hours.\\n2. The cluster related to the application is healthy for the past 24 hours.\\n3. Overall, everything is healthy with the application.\\n4. There are no alerts related to the application in the past 6 hours.\\n5. No Service Level Objective (SLO) has been defined for the application.\\n\\nIn conclusion, the state of the application \"retailbanking\" is good.'}}\n",
      "----\n",
      "{'supervisor': {'task': 'How is the health of my application retailbanking.', 'next': 'FINISH'}}\n",
      "----\n"
     ]
    }
   ],
   "source": [
    "thread = {\"configurable\": {\"thread_id\": \"1\"}}\n",
    "\n",
    "    \n",
    "for s in graph.stream(\n",
    "    {\"messages\": [HumanMessage(content=\"How is the health of my application retailbanking.\")]},\n",
    "    #{\"task\": \"How is the health of my application retail_banking.\"},\n",
    "    #{\"recursion_limit\": 4},\n",
    "    thread\n",
    "    ):\n",
    "    if \"__end__\" not in s:\n",
    "        print(s)\n",
    "        print(\"----\")"
   ]
  },
  {
   "cell_type": "code",
   "execution_count": null,
   "id": "53c22507",
   "metadata": {},
   "outputs": [],
   "source": []
  }
 ],
 "metadata": {
  "kernelspec": {
   "display_name": ".aiagt",
   "language": "python",
   "name": ".aiagt"
  },
  "language_info": {
   "codemirror_mode": {
    "name": "ipython",
    "version": 3
   },
   "file_extension": ".py",
   "mimetype": "text/x-python",
   "name": "python",
   "nbconvert_exporter": "python",
   "pygments_lexer": "ipython3",
   "version": "3.11.7"
  }
 },
 "nbformat": 4,
 "nbformat_minor": 5
}
