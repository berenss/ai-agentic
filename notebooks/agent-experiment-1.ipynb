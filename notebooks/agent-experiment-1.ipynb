{
 "cells": [
  {
   "cell_type": "code",
   "execution_count": 1,
   "id": "83441a13",
   "metadata": {},
   "outputs": [],
   "source": [
    "import os\n",
    "import openai\n",
    "from dotenv import load_dotenv, find_dotenv\n",
    "\n",
    "_ = load_dotenv(find_dotenv()) \n",
    "openai.api_key  = os.getenv('OPENAI_API_KEY')"
   ]
  },
  {
   "cell_type": "markdown",
   "id": "46fb6e4c",
   "metadata": {},
   "source": [
    "### Create tools"
   ]
  },
  {
   "cell_type": "code",
   "execution_count": 2,
   "id": "3c41b130",
   "metadata": {},
   "outputs": [],
   "source": [
    "from typing import Annotated\n",
    "\n",
    "from langchain_community.tools.tavily_search import TavilySearchResults\n",
    "from langchain_experimental.tools import PythonREPLTool\n",
    "\n",
    "tavily_tool = TavilySearchResults(max_results=5)\n",
    "\n",
    "# This executes code locally, which can be unsafe\n",
    "python_repl_tool = PythonREPLTool()"
   ]
  },
  {
   "cell_type": "code",
   "execution_count": 3,
   "id": "682bfb4f",
   "metadata": {},
   "outputs": [],
   "source": [
    "from langchain.agents import tool\n",
    "\n",
    "@tool\n",
    "def appdef(query: str) -> dict:\n",
    "    \"\"\"\n",
    "    This tool can find out details of application given the application name. \n",
    "    Do not try to pass on anything else like container name, secret name etc. \n",
    "    Only Application name should be used.\n",
    "    \"\"\"\n",
    "    \n",
    "    data = {\n",
    "      \"deployment_my-app-deployment\": [\n",
    "        \"pod_my-app-deployment-abc123\",\n",
    "        \"pod_my-app-deployment-xyz456\"\n",
    "      ],\n",
    "      \"pod_my-app-deployment-abc123\": [\n",
    "        \"container_app-container\",\n",
    "        \"configmap_my-app-config\",\n",
    "        \"secret_my-app-secret\",\n",
    "        \"pvc_my-app-pvc\"\n",
    "      ],\n",
    "      \"pod_my-app-deployment-xyz456\": [\n",
    "        \"container_app-container\",\n",
    "        \"configmap_my-app-config\",\n",
    "        \"secret_my-app-secret\",\n",
    "        \"pvc_my-app-pvc\"\n",
    "      ],\n",
    "      \"service_my-app-service\": [\n",
    "        \"pod_my-app-deployment-abc123\",\n",
    "        \"pod_my-app-deployment-xyz456\"\n",
    "      ],\n",
    "      \"ingress_my-app-ingress\": [\n",
    "        \"service_my-app-service\"\n",
    "      ]\n",
    "    }\n",
    "    return data"
   ]
  },
  {
   "cell_type": "code",
   "execution_count": 4,
   "id": "7a2bac77",
   "metadata": {},
   "outputs": [],
   "source": [
    "#tools = [podhealth]"
   ]
  },
  {
   "cell_type": "markdown",
   "id": "c44ae484",
   "metadata": {},
   "source": [
    "### State definition exchanged across calls"
   ]
  },
  {
   "cell_type": "code",
   "execution_count": 5,
   "id": "b0947274",
   "metadata": {},
   "outputs": [],
   "source": [
    "import functools\n",
    "import operator\n",
    "from typing import Sequence, TypedDict\n",
    "from langchain_core.messages import BaseMessage, HumanMessage\n",
    "\n",
    "from langchain_core.prompts import ChatPromptTemplate, MessagesPlaceholder\n",
    "\n",
    "from langgraph.graph import END, StateGraph, START\n",
    "\n",
    "\n",
    "# The agent state is the input to each node in the graph\n",
    "class AgentState(TypedDict):\n",
    "    # This is storing the initial question from the user\n",
    "    task: str\n",
    "    # This will store the appname    \n",
    "    appname: str\n",
    "    # This stores the composition of the application\n",
    "    # This should probably be a python dict at some point\n",
    "    composition: str    \n",
    "    # The annotation tells the graph that new messages will always\n",
    "    # be added to the current states\n",
    "    messages: Annotated[Sequence[BaseMessage], operator.add]\n",
    "    # The 'next' field indicates where to route to next\n",
    "    next: str\n",
    "    # The 'summary' field contains the final summary\n",
    "    summary: str    \n",
    "\n",
    "\n"
   ]
  },
  {
   "cell_type": "markdown",
   "id": "711edd46",
   "metadata": {},
   "source": [
    "### Define the Agents with prompts"
   ]
  },
  {
   "cell_type": "code",
   "execution_count": 6,
   "id": "8409206c",
   "metadata": {},
   "outputs": [],
   "source": [
    "SUPERVISOR_PROMPT = \"\"\"You are a supervisor tasked with getting the application health. \\\n",
    "    You have the following workers:  {members}. Given the user request, \\\n",
    "    find the application name that user is asking about. \\\n",
    "    Use the worker/member that can do it. \\\n",
    "    Once you have got the application name, \\\n",
    "    find out the health of that application from the metrics point of view. \\\n",
    "    Use the worker/member that can do it. \\\n",
    "    Just respond with the worker/member name who should act next - nothing else. \\\n",
    "    Each worker will perform a \\\n",
    "    task and respond with their results and status. \\\n",
    "    Hint - the order in which the members are organized is the order in which they can be called. \\\n",
    "    Concretely - call Appdetect first. After its done, call Appmetric etc. \\\n",
    "    When finished, respond with FINISH.\"\"\""
   ]
  },
  {
   "cell_type": "code",
   "execution_count": 7,
   "id": "e3f835d7",
   "metadata": {},
   "outputs": [],
   "source": [
    "APPDETECT_PROMPT = \"\"\"You are an expert at determining the application name from a query.\\\n",
    "Find out the application name and just return the application name and nothing else. \"\"\""
   ]
  },
  {
   "cell_type": "code",
   "execution_count": 8,
   "id": "4471d5ac",
   "metadata": {},
   "outputs": [],
   "source": [
    "APPMETRIC_PROMPT = \"\"\"You are an expert at determining the application health from the metrics they emit.\\\n",
    "You only need the application name to be passed on as : {appname}. Always return the message - All is healthy \"\"\""
   ]
  },
  {
   "cell_type": "code",
   "execution_count": 9,
   "id": "5f1e7217",
   "metadata": {},
   "outputs": [],
   "source": [
    "SUMMARY_PROMPT = \"\"\"You are an expert at summarizing the state of affairs. \\\n",
    "So summarize the data that is being passed on to you. \\\n",
    "Create a concluding statement - call it in conclusion - a summarize your findings in a binary manner - good or bad. \n",
    "------\n",
    "\n",
    "{content}\"\"\""
   ]
  },
  {
   "cell_type": "code",
   "execution_count": 10,
   "id": "995f69d9",
   "metadata": {},
   "outputs": [],
   "source": [
    "members = [\"App_Detect\",\"App_Health_from_metric\",\"Summary\"] "
   ]
  },
  {
   "cell_type": "code",
   "execution_count": 11,
   "id": "c0334897",
   "metadata": {},
   "outputs": [],
   "source": [
    "# This is utility switch. Turns on more logging.\n",
    "log_state_data = False"
   ]
  },
  {
   "cell_type": "code",
   "execution_count": 12,
   "id": "3c5b92ff",
   "metadata": {},
   "outputs": [],
   "source": [
    "def supervisor_chain(state: AgentState):\n",
    "    \n",
    "    \n",
    "    if isinstance(state['messages'][-1], str):\n",
    "        msg = state['messages'][-1]\n",
    "    else:\n",
    "        msg = state['messages'][-1].content\n",
    "\n",
    "    messages = [\n",
    "        SystemMessage(content=SUPERVISOR_PROMPT.format(members=members)), \n",
    "        #HumanMessage(content=state['task']\n",
    "        #HumanMessage(content=state['messages'][-1].content)\n",
    "        HumanMessage(content=msg)\n",
    "        \n",
    "   ]\n",
    "    \n",
    "    if (log_state_data):\n",
    "        print(\"*************inside supervisor_chain********************\")\n",
    "        for key in state:\n",
    "            print(key,\" : \",state[key])\n",
    "        print(\"*********************************\")\n",
    "    \n",
    "    \n",
    "    #model = ChatOpenAI(model=\"gpt-3.5-turbo\", temperature=0)\n",
    "    #modelt = model.bind_tools(tools)\n",
    "    #response = model.invoke(messages)\n",
    "    \n",
    "    # As you will see, this supervisor does not even call the LLM\n",
    "    # This is a point in time statement. Ofcourse we will use LLM\n",
    "    # This is also exploring art of possibilities\n",
    "    \n",
    "    if not state['appname']:\n",
    "        value = 'App_Detect'\n",
    "    elif state['next'] == 'App_Detect':\n",
    "        value = 'App_Health_from_metric'\n",
    "    elif state['next'] == 'App_Health_from_metric':\n",
    "        value = 'Summary'   \n",
    "    else:\n",
    "        value = 'FINISH'\n",
    "\n",
    "    return {\"next\": value,\"task\":state['messages'][0].content }"
   ]
  },
  {
   "cell_type": "code",
   "execution_count": 13,
   "id": "17bba4c5",
   "metadata": {},
   "outputs": [],
   "source": [
    "from langchain_openai import ChatOpenAI\n",
    "from langchain_core.messages import AnyMessage, SystemMessage, HumanMessage, AIMessage, ChatMessage\n",
    "\n",
    "\n",
    "def appdetect_node(state: AgentState):\n",
    "    \n",
    "    if (log_state_data):\n",
    "        print(\"*************inside appdetect_node********************\")\n",
    "        for key in state:\n",
    "            print(key,\" : \",state[key])\n",
    "        print(\"*********************************\")\n",
    "    \n",
    "    messages = [\n",
    "        SystemMessage(content=APPDETECT_PROMPT), \n",
    "        HumanMessage(content=state['task'])\n",
    "    ]\n",
    "   \n",
    "\n",
    "    model = ChatOpenAI(model=\"gpt-3.5-turbo\", temperature=0)\n",
    "    response = model.invoke(messages)\n",
    "\n",
    "    return {\"messages\": [response.content],\"appname\":response.content }"
   ]
  },
  {
   "cell_type": "code",
   "execution_count": 14,
   "id": "350abbd9",
   "metadata": {},
   "outputs": [],
   "source": [
    "from langchain_openai import ChatOpenAI\n",
    "from langchain_core.messages import AnyMessage, SystemMessage, HumanMessage, AIMessage, ChatMessage\n",
    "\n",
    "\n",
    "def appmetric_node(state: AgentState):\n",
    "    \n",
    "    if (log_state_data):\n",
    "        print(\"*************inside appmetric_node********************\")\n",
    "        for key in state:\n",
    "            print(key,\" : \",state[key])\n",
    "        print(\"*********************************\")\n",
    "    \n",
    "    appname = state['appname']\n",
    "    \n",
    "    messages = [\n",
    "        SystemMessage(content=APPMETRIC_PROMPT.format(appname = appname)) ,\n",
    "   ]\n",
    "\n",
    "    model = ChatOpenAI(model=\"gpt-3.5-turbo\", temperature=0)\n",
    "    response = model.invoke(messages)\n",
    "\n",
    "    return {\"messages\": [response.content]}"
   ]
  },
  {
   "cell_type": "code",
   "execution_count": 15,
   "id": "fa5db45b",
   "metadata": {},
   "outputs": [],
   "source": [
    "def summary_node(state: AgentState):\n",
    "    \n",
    "    if (log_state_data):\n",
    "        print(\"*************inside summary_node********************\")\n",
    "        for key in state:\n",
    "            print(key,\" : \",state[key])\n",
    "        print(\"*********************************\")\n",
    "    \n",
    "    content = state['messages']  \n",
    "    \n",
    "    messages = [\n",
    "        SystemMessage(content=SUMMARY_PROMPT.format(content=content)),\n",
    "    ]\n",
    "    \n",
    "    model = ChatOpenAI(model=\"gpt-3.5-turbo\", temperature=0)\n",
    "    response = model.invoke(messages)\n",
    "    \n",
    "    return {\"summary\": response.content}"
   ]
  },
  {
   "cell_type": "markdown",
   "id": "5420cdd3",
   "metadata": {},
   "source": [
    "### Construct Graph"
   ]
  },
  {
   "cell_type": "markdown",
   "id": "43b06541",
   "metadata": {},
   "source": [
    "#### Add Nodes"
   ]
  },
  {
   "cell_type": "code",
   "execution_count": 16,
   "id": "9845ff47",
   "metadata": {},
   "outputs": [],
   "source": [
    "workflow = StateGraph(AgentState)\n",
    "#workflow.add_node(\"Researcher\", research_node)\n",
    "#workflow.add_node(\"Coder\", code_node)\n",
    "workflow.add_node(\"supervisor\", supervisor_chain)\n",
    "workflow.add_node(\"App_Detect\",appdetect_node)\n",
    "workflow.add_node(\"App_Health_from_metric\",appmetric_node)\n",
    "workflow.add_node(\"Summary\",summary_node)"
   ]
  },
  {
   "cell_type": "markdown",
   "id": "b64f8aab",
   "metadata": {},
   "source": [
    "#### Add Edges"
   ]
  },
  {
   "cell_type": "code",
   "execution_count": 17,
   "id": "38550bfc",
   "metadata": {},
   "outputs": [],
   "source": [
    "for member in members:\n",
    "    # We want our workers to ALWAYS \"report back\" to the supervisor when done\n",
    "    workflow.add_edge(member, \"supervisor\")\n",
    "# The supervisor populates the \"next\" field in the graph state\n",
    "# which routes to a node or finishes\n",
    "conditional_map = {k: k for k in members}\n",
    "conditional_map[\"FINISH\"] = END\n",
    "workflow.add_conditional_edges(\"supervisor\", lambda x: x[\"next\"], conditional_map)\n",
    "# Finally, add entrypoint\n",
    "workflow.add_edge(START, \"supervisor\")\n"
   ]
  },
  {
   "cell_type": "markdown",
   "id": "92b894ec",
   "metadata": {},
   "source": [
    "#### Compile Graph"
   ]
  },
  {
   "cell_type": "code",
   "execution_count": 18,
   "id": "98066e92",
   "metadata": {},
   "outputs": [],
   "source": [
    "from langgraph.checkpoint.sqlite import SqliteSaver\n",
    "memory = SqliteSaver.from_conn_string(\":memory:\")\n",
    "\n",
    "\n",
    "#graph = workflow.compile()\n",
    "graph = workflow.compile(checkpointer=memory)"
   ]
  },
  {
   "cell_type": "markdown",
   "id": "33b2dd0e",
   "metadata": {},
   "source": [
    "#### Display the graph"
   ]
  },
  {
   "cell_type": "code",
   "execution_count": 19,
   "id": "6ad0a13c",
   "metadata": {},
   "outputs": [
    {
     "data": {
      "image/jpeg": "[encoded data removed]",
      "text/plain": [
       "<IPython.core.display.Image object>"
      ]
     },
     "metadata": {},
     "output_type": "display_data"
    }
   ],
   "source": [
    "from IPython.display import Image, display\n",
    "#from langchain_core.runnables.graph import CurveStyle, MermaidDrawMethod, NodeColors\n",
    "from langchain_core.runnables.graph import CurveStyle, MermaidDrawMethod\n",
    "\n",
    "display(\n",
    "    Image(\n",
    "        graph.get_graph().draw_mermaid_png(\n",
    "            draw_method=MermaidDrawMethod.API,\n",
    "        )\n",
    "    )\n",
    ")"
   ]
  },
  {
   "cell_type": "markdown",
   "id": "ff686583",
   "metadata": {},
   "source": [
    "## Run the code"
   ]
  },
  {
   "cell_type": "code",
   "execution_count": 20,
   "id": "730cbe74",
   "metadata": {},
   "outputs": [
    {
     "name": "stdout",
     "output_type": "stream",
     "text": [
      "{'supervisor': {'task': 'How is the health of my application retailbanking.', 'next': 'App_Detect'}}\n",
      "----\n",
      "{'App_Detect': {'appname': 'retailbanking', 'messages': ['retailbanking']}}\n",
      "----\n",
      "{'supervisor': {'task': 'How is the health of my application retailbanking.', 'next': 'App_Health_from_metric'}}\n",
      "----\n",
      "{'App_Health_from_metric': {'messages': ['All is healthy']}}\n",
      "----\n",
      "{'supervisor': {'task': 'How is the health of my application retailbanking.', 'next': 'Summary'}}\n",
      "----\n",
      "{'Summary': {'summary': 'The health of the application \"retailbanking\" is reported as \"All is healthy.\"\\n\\n**In conclusion:** \\nGood'}}\n",
      "----\n",
      "{'supervisor': {'task': 'How is the health of my application retailbanking.', 'next': 'FINISH'}}\n",
      "----\n"
     ]
    }
   ],
   "source": [
    "thread = {\"configurable\": {\"thread_id\": \"1\"}}\n",
    "\n",
    "    \n",
    "for s in graph.stream(\n",
    "    {\"messages\": [HumanMessage(content=\"How is the health of my application retailbanking.\")]},\n",
    "    #{\"task\": \"How is the health of my application retail_banking.\"},\n",
    "    #{\"recursion_limit\": 4},\n",
    "    thread\n",
    "    ):\n",
    "    if \"__end__\" not in s:\n",
    "        print(s)\n",
    "        print(\"----\")"
   ]
  },
  {
   "cell_type": "code",
   "execution_count": null,
   "id": "b3e8349e",
   "metadata": {},
   "outputs": [],
   "source": []
  }
 ],
 "metadata": {
  "kernelspec": {
   "display_name": ".aiagt",
   "language": "python",
   "name": ".aiagt"
  },
  "language_info": {
   "codemirror_mode": {
    "name": "ipython",
    "version": 3
   },
   "file_extension": ".py",
   "mimetype": "text/x-python",
   "name": "python",
   "nbconvert_exporter": "python",
   "pygments_lexer": "ipython3",
   "version": "3.11.7"
  }
 },
 "nbformat": 4,
 "nbformat_minor": 5
}
