{
 "cells": [
  {
   "cell_type": "code",
   "execution_count": 1,
   "id": "bc0ba22d",
   "metadata": {},
   "outputs": [],
   "source": [
    "import os\n",
    "import openai\n",
    "from dotenv import load_dotenv, find_dotenv\n",
    "\n",
    "_ = load_dotenv(find_dotenv()) \n",
    "openai.api_key  = os.getenv('OPENAI_API_KEY')"
   ]
  },
  {
   "cell_type": "markdown",
   "id": "bedbc184",
   "metadata": {},
   "source": [
    "### Create tools"
   ]
  },
  {
   "cell_type": "code",
   "execution_count": 2,
   "id": "df22b445",
   "metadata": {},
   "outputs": [],
   "source": [
    "from typing import Annotated\n",
    "\n",
    "from langchain_community.tools.tavily_search import TavilySearchResults\n",
    "from langchain_experimental.tools import PythonREPLTool\n",
    "\n",
    "tavily_tool = TavilySearchResults(max_results=5)\n",
    "\n",
    "# This executes code locally, which can be unsafe\n",
    "python_repl_tool = PythonREPLTool()"
   ]
  },
  {
   "cell_type": "code",
   "execution_count": 3,
   "id": "e42e2568",
   "metadata": {},
   "outputs": [],
   "source": [
    "from langchain.agents import tool\n",
    "\n",
    "@tool\n",
    "def appdef(query: str) -> dict:\n",
    "    \"\"\"\n",
    "    This tool can find out details of application given the application name. \n",
    "    Do not try to pass on anything else like container name, secret name etc. \n",
    "    Only Application name should be used.\n",
    "    \"\"\"\n",
    "    \n",
    "    data = {\n",
    "      \"deployment_my-app-deployment\": [\n",
    "        \"pod_my-app-deployment-abc123\",\n",
    "        \"pod_my-app-deployment-xyz456\"\n",
    "      ],\n",
    "      \"pod_my-app-deployment-abc123\": [\n",
    "        \"container_app-container\",\n",
    "        \"configmap_my-app-config\",\n",
    "        \"secret_my-app-secret\",\n",
    "        \"pvc_my-app-pvc\"\n",
    "      ],\n",
    "      \"pod_my-app-deployment-xyz456\": [\n",
    "        \"container_app-container\",\n",
    "        \"configmap_my-app-config\",\n",
    "        \"secret_my-app-secret\",\n",
    "        \"pvc_my-app-pvc\"\n",
    "      ],\n",
    "      \"service_my-app-service\": [\n",
    "        \"pod_my-app-deployment-abc123\",\n",
    "        \"pod_my-app-deployment-xyz456\"\n",
    "      ],\n",
    "      \"ingress_my-app-ingress\": [\n",
    "        \"service_my-app-service\"\n",
    "      ]\n",
    "    }\n",
    "    return data"
   ]
  },
  {
   "cell_type": "code",
   "execution_count": 4,
   "id": "af8fa133",
   "metadata": {},
   "outputs": [],
   "source": [
    "#tools = [podhealth]"
   ]
  },
  {
   "cell_type": "markdown",
   "id": "4a6e9dfe",
   "metadata": {},
   "source": [
    "### Helper Tools"
   ]
  },
  {
   "cell_type": "code",
   "execution_count": 5,
   "id": "7734a3e4",
   "metadata": {},
   "outputs": [],
   "source": [
    "from langchain.agents import AgentExecutor, create_openai_tools_agent\n",
    "from langchain_core.messages import BaseMessage, HumanMessage\n",
    "from langchain_openai import ChatOpenAI\n",
    "\n",
    "\n",
    "def create_agent(llm: ChatOpenAI, tools: list, system_prompt: str):\n",
    "    # Each worker node will be given a name and some tools.\n",
    "    prompt = ChatPromptTemplate.from_messages(\n",
    "        [\n",
    "            (\n",
    "                \"system\",\n",
    "                system_prompt,\n",
    "            ),\n",
    "            MessagesPlaceholder(variable_name=\"messages\"),\n",
    "            MessagesPlaceholder(variable_name=\"agent_scratchpad\"),\n",
    "        ]\n",
    "    )\n",
    "    agent = create_openai_tools_agent(llm, tools, prompt)\n",
    "    executor = AgentExecutor(agent=agent, tools=tools)\n",
    "    return executor"
   ]
  },
  {
   "cell_type": "markdown",
   "id": "82452a19",
   "metadata": {},
   "source": [
    "### "
   ]
  },
  {
   "cell_type": "code",
   "execution_count": 6,
   "id": "848ff242",
   "metadata": {},
   "outputs": [],
   "source": [
    "def agent_node(state, agent, name):\n",
    "    result = agent.invoke(state)\n",
    "    print(\"***********inside agent_node**********************\")\n",
    "    for key in state:\n",
    "        print(key,\" : \",state[key])\n",
    "    print(\"*********************************\")\n",
    "    return {\"messages\": [HumanMessage(content=result[\"output\"], name=name)]}"
   ]
  },
  {
   "cell_type": "markdown",
   "id": "961a069e",
   "metadata": {},
   "source": [
    "### Create Supervisor"
   ]
  },
  {
   "cell_type": "code",
   "execution_count": 7,
   "id": "7b67da07",
   "metadata": {},
   "outputs": [],
   "source": [
    "import functools\n",
    "import operator\n",
    "from typing import Sequence, TypedDict\n",
    "\n",
    "from langchain_core.prompts import ChatPromptTemplate, MessagesPlaceholder\n",
    "\n",
    "from langgraph.graph import END, StateGraph, START\n",
    "\n",
    "\n",
    "# The agent state is the input to each node in the graph\n",
    "class AgentState(TypedDict):\n",
    "    # This is storing the initial question from the user\n",
    "    task: str\n",
    "    # This will store the appname    \n",
    "    appname: str\n",
    "    # This stores the composition of the application\n",
    "    # This should probably be a python dict at some point\n",
    "    composition: str    \n",
    "    # The annotation tells the graph that new messages will always\n",
    "    # be added to the current states\n",
    "    messages: Annotated[Sequence[BaseMessage], operator.add]\n",
    "    # The 'next' field indicates where to route to next\n",
    "    next: str\n",
    "    # The 'summary' field contains the final summary\n",
    "    summary: str    \n",
    "\n",
    "\n"
   ]
  },
  {
   "cell_type": "code",
   "execution_count": 8,
   "id": "55549750",
   "metadata": {},
   "outputs": [],
   "source": [
    "SUPERVISOR_PROMPT = \"\"\"You are a supervisor tasked with getting the application health. \\\n",
    "    You have the following workers:  {members}. Given the user request, \\\n",
    "    find the application name that user is asking about. \\\n",
    "    Use the worker/member that can do it. \\\n",
    "    Once you have got the application name, \\\n",
    "    find out the health of that application from the metrics point of view. \\\n",
    "    Use the worker/member that can do it. \\\n",
    "    Just respond with the worker/member name who should act next - nothing else. \\\n",
    "    Each worker will perform a \\\n",
    "    task and respond with their results and status. \\\n",
    "    Hint - the order in which the members are organized is the order in which they can be called. \\\n",
    "    Concretely - call Appdetect first. After its done, call Appmetric etc. \\\n",
    "    When finished, respond with FINISH.\"\"\""
   ]
  },
  {
   "cell_type": "code",
   "execution_count": 9,
   "id": "cb2f375f",
   "metadata": {},
   "outputs": [],
   "source": [
    "APPDETECT_PROMPT = \"\"\"You are an expert at determining the application name from a query.\\\n",
    "Find out the application name and just return the application name and nothing else. \"\"\""
   ]
  },
  {
   "cell_type": "code",
   "execution_count": 10,
   "id": "2d83f8c4",
   "metadata": {},
   "outputs": [],
   "source": [
    "APPMETRIC_PROMPT = \"\"\"You are an expert at determining the application health from the metrics they emit.\\\n",
    "You only need the application name to be passed on as : {appname}. Always return the message - All is healthy \"\"\""
   ]
  },
  {
   "cell_type": "code",
   "execution_count": 11,
   "id": "864a3d6c",
   "metadata": {},
   "outputs": [],
   "source": [
    "SUMMARY_PROMPT = \"\"\"You are an expert at summarizing the state of affairs. \\\n",
    "So summarize the data that is being passed on to you. \\\n",
    "Create a concluding statement - call it in conclusion - a summarize your findings in a binary manner - good or bad. \n",
    "------\n",
    "\n",
    "{content}\"\"\""
   ]
  },
  {
   "cell_type": "code",
   "execution_count": 12,
   "id": "72cd38d1",
   "metadata": {},
   "outputs": [],
   "source": [
    "members = [\"Appdetect\",\"Appmetric\",\"Summary\"] "
   ]
  },
  {
   "cell_type": "code",
   "execution_count": 13,
   "id": "9ddccd49",
   "metadata": {},
   "outputs": [],
   "source": [
    "def supervisor_chain(state: AgentState):\n",
    "    \n",
    "    \n",
    "    if isinstance(state['messages'][-1], str):\n",
    "        msg = state['messages'][-1]\n",
    "    else:\n",
    "        msg = state['messages'][-1].content\n",
    "\n",
    "    messages = [\n",
    "        SystemMessage(content=SUPERVISOR_PROMPT.format(members=members)), \n",
    "        #HumanMessage(content=state['task']\n",
    "        #HumanMessage(content=state['messages'][-1].content)\n",
    "        HumanMessage(content=msg)\n",
    "        \n",
    "   ]\n",
    "    #state['task']=state['messages'][0].content\n",
    "    print(\"*************inside supervisor_chain********************\")\n",
    "    for key in state:\n",
    "        print(key,\" : \",state[key])\n",
    "    \n",
    "    #print(messages)\n",
    "    print(\"*********************************\")\n",
    "    #get latest of the state[messages] \n",
    "    #that is ouput of the last worker\n",
    "    #print(state['messages'][-1])\n",
    "    \n",
    "    \n",
    "    #model = ChatOpenAI(model=\"gpt-3.5-turbo\", temperature=0)\n",
    "    #modelt = model.bind_tools(tools)\n",
    "    #response = model.invoke(messages)\n",
    "    \n",
    "    #if state['appname'] == 'None':\n",
    "    if not state['appname']:\n",
    "        value = 'Appdetect'\n",
    "    elif state['next'] == 'Appdetect':\n",
    "        value = 'Appmetric'\n",
    "    elif state['next'] == 'Appmetric':\n",
    "        value = 'Summary'   \n",
    "    else:\n",
    "        value = 'FINISH'\n",
    "    \n",
    "\n",
    "    #print(\"@@@@@@@@@@@@@@@@@@@@@@@@@@@@@@@@@\")\n",
    "    #print(value)\n",
    "    return {\"next\": value,\"task\":state['messages'][0].content }"
   ]
  },
  {
   "cell_type": "code",
   "execution_count": 14,
   "id": "1a6554e6",
   "metadata": {},
   "outputs": [],
   "source": [
    "from langchain_openai import ChatOpenAI\n",
    "from langchain_core.messages import AnyMessage, SystemMessage, HumanMessage, AIMessage, ChatMessage\n",
    "\n",
    "\n",
    "def appdetect_node(state: AgentState):\n",
    "    print(\"*************inside appdetect_node********************\")\n",
    "    for key in state:\n",
    "        print(key,\" : \",state[key])\n",
    "        #print(type(state[key]))\n",
    "    print(\"*********************************\")\n",
    "    messages = [\n",
    "        SystemMessage(content=APPDETECT_PROMPT), \n",
    "        #HumanMessage(content=state['messages'][0].content)\n",
    "        HumanMessage(content=state['task'])\n",
    "    ]\n",
    "   \n",
    "    \n",
    "    \n",
    "\n",
    "    model = ChatOpenAI(model=\"gpt-3.5-turbo\", temperature=0)\n",
    "    response = model.invoke(messages)\n",
    "    #state['appname']=response.content\n",
    "    \n",
    "    print(response)\n",
    "\n",
    "    return {\"messages\": [response.content],\"appname\":response.content }"
   ]
  },
  {
   "cell_type": "code",
   "execution_count": 15,
   "id": "5df1c5fc",
   "metadata": {},
   "outputs": [],
   "source": [
    "from langchain_openai import ChatOpenAI\n",
    "from langchain_core.messages import AnyMessage, SystemMessage, HumanMessage, AIMessage, ChatMessage\n",
    "\n",
    "\n",
    "def appmetric_node(state: AgentState):\n",
    "    print(\"*************inside appmetric_node********************\")\n",
    "    for key in state:\n",
    "        print(key,\" : \",state[key])\n",
    "        #print(type(state[key]))\n",
    "    print(\"*********************************\")\n",
    "    appname = state['appname']\n",
    "    \n",
    "    messages = [\n",
    "        SystemMessage(content=APPMETRIC_PROMPT.format(appname = appname)) ,\n",
    "        #HumanMessage(content=state['messages'][0].content)\n",
    "        #HumanMessage(content=state['appname'])\n",
    "   ]\n",
    "\n",
    "    model = ChatOpenAI(model=\"gpt-3.5-turbo\", temperature=0)\n",
    "    response = model.invoke(messages)\n",
    "\n",
    "    return {\"messages\": [response.content]}"
   ]
  },
  {
   "cell_type": "code",
   "execution_count": 16,
   "id": "1760d41b",
   "metadata": {},
   "outputs": [],
   "source": [
    "def summary_node(state: AgentState):\n",
    "    print(\"*************inside summary_node********************\")\n",
    "    for key in state:\n",
    "        print(key,\" : \",state[key])\n",
    "        #print(type(state[key]))\n",
    "    print(\"*********************************\")\n",
    "    content = state['messages']  \n",
    "    messages = [\n",
    "        SystemMessage(content=SUMMARY_PROMPT.format(content=content)),\n",
    "        #HumanMessage(content=state['action'])\n",
    "    ]\n",
    "    \n",
    "    model = ChatOpenAI(model=\"gpt-3.5-turbo\", temperature=0)\n",
    "    response = model.invoke(messages)\n",
    "    \n",
    "    return {\"summary\": response.content}"
   ]
  },
  {
   "cell_type": "markdown",
   "id": "f487a927",
   "metadata": {},
   "source": [
    "### Construct Graph"
   ]
  },
  {
   "cell_type": "markdown",
   "id": "f80cadbc",
   "metadata": {},
   "source": [
    "#### Add Nodes"
   ]
  },
  {
   "cell_type": "code",
   "execution_count": 17,
   "id": "8f07c8ab",
   "metadata": {},
   "outputs": [],
   "source": [
    "#research_agent = create_agent(llm, [tavily_tool], \"You are a web researcher.\")\n",
    "#research_node = functools.partial(agent_node, agent=research_agent, name=\"Researcher\")\n",
    "\n",
    "# NOTE: THIS PERFORMS ARBITRARY CODE EXECUTION. PROCEED WITH CAUTION\n",
    "\n",
    "#code_agent = create_agent(\n",
    "#    llm,\n",
    "#    [python_repl_tool],\n",
    "#    \"You may generate safe python code to analyze data and generate charts using matplotlib.\",\n",
    "#)\n",
    "#code_node = functools.partial(agent_node, agent=code_agent, name=\"Coder\")\n",
    "\n",
    "workflow = StateGraph(AgentState)\n",
    "#workflow.add_node(\"Researcher\", research_node)\n",
    "#workflow.add_node(\"Coder\", code_node)\n",
    "workflow.add_node(\"supervisor\", supervisor_chain)\n",
    "workflow.add_node(\"Appdetect\",appdetect_node)\n",
    "workflow.add_node(\"Appmetric\",appmetric_node)\n",
    "workflow.add_node(\"Summary\",summary_node)"
   ]
  },
  {
   "cell_type": "markdown",
   "id": "24edbaec",
   "metadata": {},
   "source": [
    "#### Add Edges"
   ]
  },
  {
   "cell_type": "code",
   "execution_count": 18,
   "id": "de5f83f7",
   "metadata": {},
   "outputs": [],
   "source": [
    "for member in members:\n",
    "    # We want our workers to ALWAYS \"report back\" to the supervisor when done\n",
    "    workflow.add_edge(member, \"supervisor\")\n",
    "# The supervisor populates the \"next\" field in the graph state\n",
    "# which routes to a node or finishes\n",
    "conditional_map = {k: k for k in members}\n",
    "conditional_map[\"FINISH\"] = END\n",
    "workflow.add_conditional_edges(\"supervisor\", lambda x: x[\"next\"], conditional_map)\n",
    "# Finally, add entrypoint\n",
    "workflow.add_edge(START, \"supervisor\")\n"
   ]
  },
  {
   "cell_type": "markdown",
   "id": "3e2e941f",
   "metadata": {},
   "source": [
    "#### Compile Graph"
   ]
  },
  {
   "cell_type": "code",
   "execution_count": 19,
   "id": "1720b825",
   "metadata": {},
   "outputs": [],
   "source": [
    "from langgraph.checkpoint.sqlite import SqliteSaver\n",
    "memory = SqliteSaver.from_conn_string(\":memory:\")\n",
    "\n",
    "\n",
    "#graph = workflow.compile()\n",
    "graph = workflow.compile(checkpointer=memory)"
   ]
  },
  {
   "cell_type": "code",
   "execution_count": 20,
   "id": "9133e27a",
   "metadata": {},
   "outputs": [
    {
     "data": {
      "image/jpeg": "[encoded data removed]",
      "text/plain": [
       "<IPython.core.display.Image object>"
      ]
     },
     "metadata": {},
     "output_type": "display_data"
    }
   ],
   "source": [
    "from IPython.display import Image, display\n",
    "#from langchain_core.runnables.graph import CurveStyle, MermaidDrawMethod, NodeColors\n",
    "from langchain_core.runnables.graph import CurveStyle, MermaidDrawMethod\n",
    "\n",
    "display(\n",
    "    Image(\n",
    "        graph.get_graph().draw_mermaid_png(\n",
    "            draw_method=MermaidDrawMethod.API,\n",
    "        )\n",
    "    )\n",
    ")"
   ]
  },
  {
   "cell_type": "markdown",
   "id": "a1798003",
   "metadata": {},
   "source": [
    "Invoke code"
   ]
  },
  {
   "cell_type": "code",
   "execution_count": 21,
   "id": "808b38d9",
   "metadata": {},
   "outputs": [
    {
     "name": "stdout",
     "output_type": "stream",
     "text": [
      "*************inside supervisor_chain********************\n",
      "task  :  None\n",
      "appname  :  None\n",
      "composition  :  None\n",
      "messages  :  [HumanMessage(content='How is the health of my application retailbanking.')]\n",
      "next  :  None\n",
      "summary  :  None\n",
      "*********************************\n",
      "{'supervisor': {'task': 'How is the health of my application retailbanking.', 'next': 'Appdetect'}}\n",
      "----\n",
      "*************inside appdetect_node********************\n",
      "task  :  How is the health of my application retailbanking.\n",
      "appname  :  None\n",
      "composition  :  None\n",
      "messages  :  [HumanMessage(content='How is the health of my application retailbanking.')]\n",
      "next  :  Appdetect\n",
      "summary  :  None\n",
      "*********************************\n",
      "content='retailbanking' response_metadata={'token_usage': {'completion_tokens': 4, 'prompt_tokens': 50, 'total_tokens': 54}, 'model_name': 'gpt-3.5-turbo-0125', 'system_fingerprint': None, 'finish_reason': 'stop', 'logprobs': None} id='run-2e6b9ffa-b146-4025-9f1b-a11b264e2084-0' usage_metadata={'input_tokens': 50, 'output_tokens': 4, 'total_tokens': 54}\n",
      "{'Appdetect': {'appname': 'retailbanking', 'messages': ['retailbanking']}}\n",
      "----\n",
      "*************inside supervisor_chain********************\n",
      "task  :  How is the health of my application retailbanking.\n",
      "appname  :  retailbanking\n",
      "composition  :  None\n",
      "messages  :  [HumanMessage(content='How is the health of my application retailbanking.'), 'retailbanking']\n",
      "next  :  Appdetect\n",
      "summary  :  None\n",
      "*********************************\n",
      "{'supervisor': {'task': 'How is the health of my application retailbanking.', 'next': 'Appmetric'}}\n",
      "----\n",
      "*************inside appmetric_node********************\n",
      "task  :  How is the health of my application retailbanking.\n",
      "appname  :  retailbanking\n",
      "composition  :  None\n",
      "messages  :  [HumanMessage(content='How is the health of my application retailbanking.'), 'retailbanking']\n",
      "next  :  Appmetric\n",
      "summary  :  None\n",
      "*********************************\n",
      "{'Appmetric': {'messages': ['All is healthy']}}\n",
      "----\n",
      "*************inside supervisor_chain********************\n",
      "task  :  How is the health of my application retailbanking.\n",
      "appname  :  retailbanking\n",
      "composition  :  None\n",
      "messages  :  [HumanMessage(content='How is the health of my application retailbanking.'), 'retailbanking', 'All is healthy']\n",
      "next  :  Appmetric\n",
      "summary  :  None\n",
      "*********************************\n",
      "{'supervisor': {'task': 'How is the health of my application retailbanking.', 'next': 'Summary'}}\n",
      "----\n",
      "*************inside summary_node********************\n",
      "task  :  How is the health of my application retailbanking.\n",
      "appname  :  retailbanking\n",
      "composition  :  None\n",
      "messages  :  [HumanMessage(content='How is the health of my application retailbanking.'), 'retailbanking', 'All is healthy']\n",
      "next  :  Summary\n",
      "summary  :  None\n",
      "*********************************\n",
      "{'Summary': {'summary': 'The health of the application \"retailbanking\" is reported as \"All is healthy.\"\\n\\n**In conclusion:** \\nGood'}}\n",
      "----\n",
      "*************inside supervisor_chain********************\n",
      "task  :  How is the health of my application retailbanking.\n",
      "appname  :  retailbanking\n",
      "composition  :  None\n",
      "messages  :  [HumanMessage(content='How is the health of my application retailbanking.'), 'retailbanking', 'All is healthy']\n",
      "next  :  Summary\n",
      "summary  :  The health of the application \"retailbanking\" is reported as \"All is healthy.\"\n",
      "\n",
      "**In conclusion:** \n",
      "Good\n",
      "*********************************\n",
      "{'supervisor': {'task': 'How is the health of my application retailbanking.', 'next': 'FINISH'}}\n",
      "----\n"
     ]
    }
   ],
   "source": [
    "thread = {\"configurable\": {\"thread_id\": \"1\"}}\n",
    "\n",
    "    \n",
    "for s in graph.stream(\n",
    "    {\"messages\": [HumanMessage(content=\"How is the health of my application retailbanking.\")]},\n",
    "    #{\"task\": \"How is the health of my application retail_banking.\"},\n",
    "    #{\"recursion_limit\": 4},\n",
    "    thread\n",
    "    ):\n",
    "    if \"__end__\" not in s:\n",
    "        print(s)\n",
    "        print(\"----\")"
   ]
  },
  {
   "cell_type": "code",
   "execution_count": null,
   "id": "8fc3169e",
   "metadata": {},
   "outputs": [],
   "source": []
  }
 ],
 "metadata": {
  "kernelspec": {
   "display_name": ".aiagt",
   "language": "python",
   "name": ".aiagt"
  },
  "language_info": {
   "codemirror_mode": {
    "name": "ipython",
    "version": 3
   },
   "file_extension": ".py",
   "mimetype": "text/x-python",
   "name": "python",
   "nbconvert_exporter": "python",
   "pygments_lexer": "ipython3",
   "version": "3.11.7"
  }
 },
 "nbformat": 4,
 "nbformat_minor": 5
}
